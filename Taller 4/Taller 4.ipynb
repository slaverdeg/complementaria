{
 "cells": [
  {
   "cell_type": "code",
   "execution_count": 35,
   "metadata": {},
   "outputs": [],
   "source": [
    "import numpy as np\n",
    "import scipy as sc\n",
    "import matplotlib.pyplot as plt \n",
    "import sympy as simp\n",
    "from itertools import permutations\n",
    "from itertools import combinations\n",
    "from itertools import combinations_with_replacement"
   ]
  },
  {
   "cell_type": "markdown",
   "metadata": {},
   "source": [
    "1. Cálculo de probabilidad "
   ]
  },
  {
   "cell_type": "code",
   "execution_count": 44,
   "metadata": {},
   "outputs": [
    {
     "ename": "TypeError",
     "evalue": "'Add' object is not callable",
     "output_type": "error",
     "traceback": [
      "\u001b[1;31m---------------------------------------------------------------------------\u001b[0m",
      "\u001b[1;31mTypeError\u001b[0m                                 Traceback (most recent call last)",
      "\u001b[1;32mc:\\Users\\laura\\OneDrive\\Escritorio\\FISI2526-MetCompCompl-202320\\Clase_12\\S14.ipynb Cell 3\u001b[0m line \u001b[0;36m2\n\u001b[0;32m     <a href='vscode-notebook-cell:/c%3A/Users/laura/OneDrive/Escritorio/FISI2526-MetCompCompl-202320/Clase_12/S14.ipynb#W2sZmlsZQ%3D%3D?line=23'>24</a>\u001b[0m     probabilidad\u001b[39m=\u001b[39mcontador\u001b[39m/\u001b[39mK\n\u001b[0;32m     <a href='vscode-notebook-cell:/c%3A/Users/laura/OneDrive/Escritorio/FISI2526-MetCompCompl-202320/Clase_12/S14.ipynb#W2sZmlsZQ%3D%3D?line=25'>26</a>\u001b[0m     \u001b[39mreturn\u001b[39;00m probabilidad\n\u001b[1;32m---> <a href='vscode-notebook-cell:/c%3A/Users/laura/OneDrive/Escritorio/FISI2526-MetCompCompl-202320/Clase_12/S14.ipynb#W2sZmlsZQ%3D%3D?line=27'>28</a>\u001b[0m \u001b[39mprint\u001b[39m(problema1(\u001b[39m11\u001b[39;49m,\u001b[39m3\u001b[39;49m))\n\u001b[0;32m     <a href='vscode-notebook-cell:/c%3A/Users/laura/OneDrive/Escritorio/FISI2526-MetCompCompl-202320/Clase_12/S14.ipynb#W2sZmlsZQ%3D%3D?line=28'>29</a>\u001b[0m \u001b[39mprint\u001b[39m(problema1(\u001b[39m10\u001b[39m,\u001b[39m2\u001b[39m))\n\u001b[0;32m     <a href='vscode-notebook-cell:/c%3A/Users/laura/OneDrive/Escritorio/FISI2526-MetCompCompl-202320/Clase_12/S14.ipynb#W2sZmlsZQ%3D%3D?line=29'>30</a>\u001b[0m \u001b[39mprint\u001b[39m(problema1(\u001b[39m9\u001b[39m,\u001b[39m1\u001b[39m))\n",
      "\u001b[1;32mc:\\Users\\laura\\OneDrive\\Escritorio\\FISI2526-MetCompCompl-202320\\Clase_12\\S14.ipynb Cell 3\u001b[0m line \u001b[0;36m1\n\u001b[0;32m     <a href='vscode-notebook-cell:/c%3A/Users/laura/OneDrive/Escritorio/FISI2526-MetCompCompl-202320/Clase_12/S14.ipynb#W2sZmlsZQ%3D%3D?line=12'>13</a>\u001b[0m     lista\u001b[39m.\u001b[39mappend(espadas)\n\u001b[0;32m     <a href='vscode-notebook-cell:/c%3A/Users/laura/OneDrive/Escritorio/FISI2526-MetCompCompl-202320/Clase_12/S14.ipynb#W2sZmlsZQ%3D%3D?line=14'>15</a>\u001b[0m contador\u001b[39m=\u001b[39m\u001b[39m0\u001b[39m\n\u001b[1;32m---> <a href='vscode-notebook-cell:/c%3A/Users/laura/OneDrive/Escritorio/FISI2526-MetCompCompl-202320/Clase_12/S14.ipynb#W2sZmlsZQ%3D%3D?line=15'>16</a>\u001b[0m K\u001b[39m=\u001b[39m\u001b[39mint\u001b[39;49m(\u001b[39m1e6\u001b[39;49m)\n\u001b[0;32m     <a href='vscode-notebook-cell:/c%3A/Users/laura/OneDrive/Escritorio/FISI2526-MetCompCompl-202320/Clase_12/S14.ipynb#W2sZmlsZQ%3D%3D?line=17'>18</a>\u001b[0m \u001b[39mfor\u001b[39;00m i \u001b[39min\u001b[39;00m \u001b[39mrange\u001b[39m(K):\n\u001b[0;32m     <a href='vscode-notebook-cell:/c%3A/Users/laura/OneDrive/Escritorio/FISI2526-MetCompCompl-202320/Clase_12/S14.ipynb#W2sZmlsZQ%3D%3D?line=18'>19</a>\u001b[0m     np\u001b[39m.\u001b[39mrandom\u001b[39m.\u001b[39mshuffle(lista)\n",
      "\u001b[1;31mTypeError\u001b[0m: 'Add' object is not callable"
     ]
    }
   ],
   "source": [
    "#1. \n",
    "def problema1(numero_de_espadas,siguientes):\n",
    "    espadas=1\n",
    "    a=2\n",
    "    b=3\n",
    "    c=4\n",
    "    lista=[]\n",
    "    for i in range(13):\n",
    "        lista.append(a)\n",
    "        lista.append(b)\n",
    "        lista.append(c)\n",
    "    for i in range(numero_de_espadas):\n",
    "        lista.append(espadas)\n",
    "\n",
    "    contador=0\n",
    "    K=int(1e6)\n",
    "    \n",
    "    for i in range(K):\n",
    "        np.random.shuffle(lista)\n",
    "        sub=lista[:siguientes]\n",
    "        if np.sum(sub) == siguientes:\n",
    "            contador+=1\n",
    "\n",
    "    probabilidad=contador/K\n",
    "    \n",
    "    return probabilidad\n",
    "\n",
    "print(problema1(11,3))\n",
    "print(problema1(10,2))\n",
    "print(problema1(9,1))\n"
   ]
  },
  {
   "cell_type": "code",
   "execution_count": null,
   "metadata": {},
   "outputs": [
    {
     "name": "stdout",
     "output_type": "stream",
     "text": [
      "La probabilidad es: 0.595\n"
     ]
    }
   ],
   "source": [
    "#2. \n",
    "def probabilidad_epidemia(N):\n",
    "    proba_vac = [1] * 2 + [0] * 8\n",
    "    proba_nvac = [1] * 9 + [0] * 1\n",
    "    expuesto = [1] * 6 + [0] * 4\n",
    "    exito = 0\n",
    "\n",
    "    for _ in range(N):\n",
    "        exp_vac = np.random.choice(expuesto, 1)[0]\n",
    "        vac = False\n",
    "\n",
    "        if exp_vac == 1:\n",
    "            enfermo = np.random.choice(proba_vac, 1)[0]\n",
    "            if enfermo == 1:\n",
    "                exito += 1\n",
    "                vac = True\n",
    "\n",
    "        exp_nvac = np.random.choice(expuesto, 1)[0]\n",
    "        if exp_nvac == 1 and not vac:\n",
    "            enfermo_n = np.random.choice(proba_nvac, 1)[0]\n",
    "            if enfermo_n == 1:\n",
    "                exito += 1\n",
    "\n",
    "    return exito / N\n",
    "\n",
    "N = 10000\n",
    "resultado = probabilidad_epidemia(N)\n",
    "print(\"La probabilidad es:\",resultado )\n"
   ]
  },
  {
   "cell_type": "markdown",
   "metadata": {},
   "source": [
    "3. Distribuciones de probabilidad continuas "
   ]
  },
  {
   "cell_type": "code",
   "execution_count": null,
   "metadata": {},
   "outputs": [
    {
     "name": "stdout",
     "output_type": "stream",
     "text": [
      "0.11111111111111112\n",
      "0.7777777777777778\n"
     ]
    }
   ],
   "source": [
    "def f(x):\n",
    "    return (x**2) /3\n",
    "# a\n",
    "print(sc.integrate.quad(f,0,1)[0])\n",
    "\n",
    "# b\n",
    "print(sc.integrate.quad(f,1,2)[0])"
   ]
  },
  {
   "cell_type": "code",
   "execution_count": null,
   "metadata": {},
   "outputs": [
    {
     "data": {
      "text/plain": [
       "[<matplotlib.lines.Line2D at 0x1e9e26748d0>]"
      ]
     },
     "execution_count": 9,
     "metadata": {},
     "output_type": "execute_result"
    },
    {
     "data": {
      "image/png": "[encoded data removed]",
      "text/plain": [
       "<Figure size 640x480 with 1 Axes>"
      ]
     },
     "metadata": {},
     "output_type": "display_data"
    }
   ],
   "source": [
    "def normal(x):\n",
    "    return (1/np.sqrt(2*np.pi*(36**2))) * np.exp(-1/2 * ((x-78)/36)**2)\n",
    "\n",
    "xx=np.linspace(-50,200,500)\n",
    "plt.plot(xx,normal(xx))"
   ]
  },
  {
   "cell_type": "code",
   "execution_count": 42,
   "metadata": {},
   "outputs": [
    {
     "name": "stdout",
     "output_type": "stream",
     "text": [
      "Probabilidad de que una persona que realice el examen y alcance calificaciones mayores a 72 es:  0.5\n",
      "Calificación mínima para tener una A es:  [124.135856359605]\n"
     ]
    },
    {
     "ename": "TypeError",
     "evalue": "unsupported operand type(s) for -: 'function' and 'function'",
     "output_type": "error",
     "traceback": [
      "\u001b[1;31m---------------------------------------------------------------------------\u001b[0m",
      "\u001b[1;31mTypeError\u001b[0m                                 Traceback (most recent call last)",
      "\u001b[1;32mc:\\Users\\laura\\OneDrive\\Escritorio\\FISI2526-MetCompCompl-202320\\Clase_12\\S14.ipynb Cell 8\u001b[0m line \u001b[0;36m1\n\u001b[0;32m     <a href='vscode-notebook-cell:/c%3A/Users/laura/OneDrive/Escritorio/FISI2526-MetCompCompl-202320/Clase_12/S14.ipynb#X12sZmlsZQ%3D%3D?line=15'>16</a>\u001b[0m \u001b[39mprint\u001b[39m(\u001b[39m\"\u001b[39m\u001b[39mCalificación mínima para tener una A es: \u001b[39m\u001b[39m\"\u001b[39m, b)\n\u001b[0;32m     <a href='vscode-notebook-cell:/c%3A/Users/laura/OneDrive/Escritorio/FISI2526-MetCompCompl-202320/Clase_12/S14.ipynb#X12sZmlsZQ%3D%3D?line=17'>18</a>\u001b[0m \u001b[39m#c\u001b[39;00m\n\u001b[1;32m---> <a href='vscode-notebook-cell:/c%3A/Users/laura/OneDrive/Escritorio/FISI2526-MetCompCompl-202320/Clase_12/S14.ipynb#X12sZmlsZQ%3D%3D?line=18'>19</a>\u001b[0m c \u001b[39m=\u001b[39m sc\u001b[39m.\u001b[39mintegrate\u001b[39m.\u001b[39mquad(normal, \u001b[39m-\u001b[39mnp\u001b[39m.\u001b[39minf, np\u001b[39m.\u001b[39;49mpercentile(normal, \u001b[39m28.1\u001b[39;49m))[\u001b[39m0\u001b[39m]\n\u001b[0;32m     <a href='vscode-notebook-cell:/c%3A/Users/laura/OneDrive/Escritorio/FISI2526-MetCompCompl-202320/Clase_12/S14.ipynb#X12sZmlsZQ%3D%3D?line=19'>20</a>\u001b[0m \u001b[39mprint\u001b[39m(\u001b[39m\"\u001b[39m\u001b[39mPunto límite para pasar el 28.1 más alto: \u001b[39m\u001b[39m\"\u001b[39m, c)\n\u001b[0;32m     <a href='vscode-notebook-cell:/c%3A/Users/laura/OneDrive/Escritorio/FISI2526-MetCompCompl-202320/Clase_12/S14.ipynb#X12sZmlsZQ%3D%3D?line=21'>22</a>\u001b[0m \u001b[39m#d\u001b[39;00m\n",
      "File \u001b[1;32mc:\\Users\\laura\\AppData\\Local\\Programs\\Python\\Python311\\Lib\\site-packages\\numpy\\lib\\function_base.py:4283\u001b[0m, in \u001b[0;36mpercentile\u001b[1;34m(a, q, axis, out, overwrite_input, method, keepdims, interpolation)\u001b[0m\n\u001b[0;32m   4281\u001b[0m \u001b[39mif\u001b[39;00m \u001b[39mnot\u001b[39;00m _quantile_is_valid(q):\n\u001b[0;32m   4282\u001b[0m     \u001b[39mraise\u001b[39;00m \u001b[39mValueError\u001b[39;00m(\u001b[39m\"\u001b[39m\u001b[39mPercentiles must be in the range [0, 100]\u001b[39m\u001b[39m\"\u001b[39m)\n\u001b[1;32m-> 4283\u001b[0m \u001b[39mreturn\u001b[39;00m _quantile_unchecked(\n\u001b[0;32m   4284\u001b[0m     a, q, axis, out, overwrite_input, method, keepdims)\n",
      "File \u001b[1;32mc:\\Users\\laura\\AppData\\Local\\Programs\\Python\\Python311\\Lib\\site-packages\\numpy\\lib\\function_base.py:4555\u001b[0m, in \u001b[0;36m_quantile_unchecked\u001b[1;34m(a, q, axis, out, overwrite_input, method, keepdims)\u001b[0m\n\u001b[0;32m   4547\u001b[0m \u001b[39mdef\u001b[39;00m \u001b[39m_quantile_unchecked\u001b[39m(a,\n\u001b[0;32m   4548\u001b[0m                         q,\n\u001b[0;32m   4549\u001b[0m                         axis\u001b[39m=\u001b[39m\u001b[39mNone\u001b[39;00m,\n\u001b[1;32m   (...)\u001b[0m\n\u001b[0;32m   4552\u001b[0m                         method\u001b[39m=\u001b[39m\u001b[39m\"\u001b[39m\u001b[39mlinear\u001b[39m\u001b[39m\"\u001b[39m,\n\u001b[0;32m   4553\u001b[0m                         keepdims\u001b[39m=\u001b[39m\u001b[39mFalse\u001b[39;00m):\n\u001b[0;32m   4554\u001b[0m \u001b[39m    \u001b[39m\u001b[39m\"\"\"Assumes that q is in [0, 1], and is an ndarray\"\"\"\u001b[39;00m\n\u001b[1;32m-> 4555\u001b[0m     \u001b[39mreturn\u001b[39;00m _ureduce(a,\n\u001b[0;32m   4556\u001b[0m                     func\u001b[39m=\u001b[39;49m_quantile_ureduce_func,\n\u001b[0;32m   4557\u001b[0m                     q\u001b[39m=\u001b[39;49mq,\n\u001b[0;32m   4558\u001b[0m                     keepdims\u001b[39m=\u001b[39;49mkeepdims,\n\u001b[0;32m   4559\u001b[0m                     axis\u001b[39m=\u001b[39;49maxis,\n\u001b[0;32m   4560\u001b[0m                     out\u001b[39m=\u001b[39;49mout,\n\u001b[0;32m   4561\u001b[0m                     overwrite_input\u001b[39m=\u001b[39;49moverwrite_input,\n\u001b[0;32m   4562\u001b[0m                     method\u001b[39m=\u001b[39;49mmethod)\n",
      "File \u001b[1;32mc:\\Users\\laura\\AppData\\Local\\Programs\\Python\\Python311\\Lib\\site-packages\\numpy\\lib\\function_base.py:3823\u001b[0m, in \u001b[0;36m_ureduce\u001b[1;34m(a, func, keepdims, **kwargs)\u001b[0m\n\u001b[0;32m   3820\u001b[0m             index_out \u001b[39m=\u001b[39m (\u001b[39m0\u001b[39m, ) \u001b[39m*\u001b[39m nd\n\u001b[0;32m   3821\u001b[0m             kwargs[\u001b[39m'\u001b[39m\u001b[39mout\u001b[39m\u001b[39m'\u001b[39m] \u001b[39m=\u001b[39m out[(\u001b[39mEllipsis\u001b[39m, ) \u001b[39m+\u001b[39m index_out]\n\u001b[1;32m-> 3823\u001b[0m r \u001b[39m=\u001b[39m func(a, \u001b[39m*\u001b[39;49m\u001b[39m*\u001b[39;49mkwargs)\n\u001b[0;32m   3825\u001b[0m \u001b[39mif\u001b[39;00m out \u001b[39mis\u001b[39;00m \u001b[39mnot\u001b[39;00m \u001b[39mNone\u001b[39;00m:\n\u001b[0;32m   3826\u001b[0m     \u001b[39mreturn\u001b[39;00m out\n",
      "File \u001b[1;32mc:\\Users\\laura\\AppData\\Local\\Programs\\Python\\Python311\\Lib\\site-packages\\numpy\\lib\\function_base.py:4721\u001b[0m, in \u001b[0;36m_quantile_ureduce_func\u001b[1;34m(a, q, axis, out, overwrite_input, method)\u001b[0m\n\u001b[0;32m   4719\u001b[0m     \u001b[39melse\u001b[39;00m:\n\u001b[0;32m   4720\u001b[0m         arr \u001b[39m=\u001b[39m a\u001b[39m.\u001b[39mcopy()\n\u001b[1;32m-> 4721\u001b[0m result \u001b[39m=\u001b[39m _quantile(arr,\n\u001b[0;32m   4722\u001b[0m                    quantiles\u001b[39m=\u001b[39;49mq,\n\u001b[0;32m   4723\u001b[0m                    axis\u001b[39m=\u001b[39;49maxis,\n\u001b[0;32m   4724\u001b[0m                    method\u001b[39m=\u001b[39;49mmethod,\n\u001b[0;32m   4725\u001b[0m                    out\u001b[39m=\u001b[39;49mout)\n\u001b[0;32m   4726\u001b[0m \u001b[39mreturn\u001b[39;00m result\n",
      "File \u001b[1;32mc:\\Users\\laura\\AppData\\Local\\Programs\\Python\\Python311\\Lib\\site-packages\\numpy\\lib\\function_base.py:4840\u001b[0m, in \u001b[0;36m_quantile\u001b[1;34m(arr, quantiles, axis, method, out)\u001b[0m\n\u001b[0;32m   4838\u001b[0m     result_shape \u001b[39m=\u001b[39m virtual_indexes\u001b[39m.\u001b[39mshape \u001b[39m+\u001b[39m (\u001b[39m1\u001b[39m,) \u001b[39m*\u001b[39m (arr\u001b[39m.\u001b[39mndim \u001b[39m-\u001b[39m \u001b[39m1\u001b[39m)\n\u001b[0;32m   4839\u001b[0m     gamma \u001b[39m=\u001b[39m gamma\u001b[39m.\u001b[39mreshape(result_shape)\n\u001b[1;32m-> 4840\u001b[0m     result \u001b[39m=\u001b[39m _lerp(previous,\n\u001b[0;32m   4841\u001b[0m                    \u001b[39mnext\u001b[39;49m,\n\u001b[0;32m   4842\u001b[0m                    gamma,\n\u001b[0;32m   4843\u001b[0m                    out\u001b[39m=\u001b[39;49mout)\n\u001b[0;32m   4844\u001b[0m \u001b[39mif\u001b[39;00m np\u001b[39m.\u001b[39many(slices_having_nans):\n\u001b[0;32m   4845\u001b[0m     \u001b[39mif\u001b[39;00m result\u001b[39m.\u001b[39mndim \u001b[39m==\u001b[39m \u001b[39m0\u001b[39m \u001b[39mand\u001b[39;00m out \u001b[39mis\u001b[39;00m \u001b[39mNone\u001b[39;00m:\n\u001b[0;32m   4846\u001b[0m         \u001b[39m# can't write to a scalar, but indexing will be correct\u001b[39;00m\n",
      "File \u001b[1;32mc:\\Users\\laura\\AppData\\Local\\Programs\\Python\\Python311\\Lib\\site-packages\\numpy\\lib\\function_base.py:4655\u001b[0m, in \u001b[0;36m_lerp\u001b[1;34m(a, b, t, out)\u001b[0m\n\u001b[0;32m   4641\u001b[0m \u001b[39mdef\u001b[39;00m \u001b[39m_lerp\u001b[39m(a, b, t, out\u001b[39m=\u001b[39m\u001b[39mNone\u001b[39;00m):\n\u001b[0;32m   4642\u001b[0m \u001b[39m    \u001b[39m\u001b[39m\"\"\"\u001b[39;00m\n\u001b[0;32m   4643\u001b[0m \u001b[39m    Compute the linear interpolation weighted by gamma on each point of\u001b[39;00m\n\u001b[0;32m   4644\u001b[0m \u001b[39m    two same shape array.\u001b[39;00m\n\u001b[1;32m   (...)\u001b[0m\n\u001b[0;32m   4653\u001b[0m \u001b[39m        Output array.\u001b[39;00m\n\u001b[0;32m   4654\u001b[0m \u001b[39m    \"\"\"\u001b[39;00m\n\u001b[1;32m-> 4655\u001b[0m     diff_b_a \u001b[39m=\u001b[39m subtract(b, a)\n\u001b[0;32m   4656\u001b[0m     \u001b[39m# asanyarray is a stop-gap until gh-13105\u001b[39;00m\n\u001b[0;32m   4657\u001b[0m     lerp_interpolation \u001b[39m=\u001b[39m asanyarray(add(a, diff_b_a \u001b[39m*\u001b[39m t, out\u001b[39m=\u001b[39mout))\n",
      "\u001b[1;31mTypeError\u001b[0m: unsupported operand type(s) for -: 'function' and 'function'"
     ]
    }
   ],
   "source": [
    "def normal(x):\n",
    "    return (1/simp.sqrt(2*np.pi*(36**2))) * simp.exp(-1/2 * ((x-78)/36)**2)\n",
    "\n",
    "#a\n",
    "a = sc.integrate.quad(normal,78,np.inf)[0]\n",
    "print(\"Probabilidad de que una persona que realice el examen y alcance calificaciones mayores a 72 es: \", a)\n",
    "\n",
    "#b\n",
    "aaa=simp.symbols(\"a\")\n",
    "x_=simp.symbols(\"x\")\n",
    "funcn=normal(x_)\n",
    "int=simp.integrate(funcn,(x_,aaa,np.inf))\n",
    "result=0.1\n",
    "b = simp.solve(int-result)\n",
    "\n",
    "print(\"Calificación mínima para tener una A es: \", b)\n",
    "\n",
    "#c\n",
    "c = sc.integrate.quad(normal, -np.inf, np.percentile(normal, 28.1))[0]\n",
    "print(\"Punto límite para pasar el 28.1 más alto: \", c)\n",
    "\n",
    "#d\n",
    "res_d = 0.25\n",
    "corte_25 = simp.solve(simp.integrate(funcn, (x_, -np.inf, x_)) - res_d)\n",
    "d = simp.integrate(funcn, (x_, corte_25[0], np.inf))\n",
    "print(\"Proporción de estudiantes con 5 puntos o más arriba del 25% más bajo: \", d)\n",
    "\n",
    "#e \n",
    "res_e = 1 - simp.integrate(funcn, (x_, 72, np.inf)) / (1 - a)\n",
    "e = simp.solve(simp.integrate(funcn, (x_, 84, np.inf)) / (1 - a) - res_e)\n",
    "print(\"Probabilidad de que calificación exceda 84: \", e[0])"
   ]
  },
  {
   "cell_type": "markdown",
   "metadata": {},
   "source": [
    "4. Cadena de Markov"
   ]
  },
  {
   "cell_type": "code",
   "execution_count": 34,
   "metadata": {},
   "outputs": [
    {
     "name": "stdout",
     "output_type": "stream",
     "text": [
      "La probabilidad de obtener el gen g es de:  7.500000000000001e-06\n"
     ]
    }
   ],
   "source": [
    "#1. \n",
    "pi = np.array([0.25, 0, 0.5, 0.25])\n",
    "\n",
    "T = np.array([[0.4, 0.2, 0.2, 0.2],\n",
    "              [0.25, 0.25, 0.25, 0.25],\n",
    "              [0.3, 0.3, 0.1, 0.3],\n",
    "              [0.1, 0.1, 0.1, 0.7]])\n",
    "\n",
    "g = np.array([3,2,1,3,1,0,0,0])\n",
    "\n",
    "def gen(priori, T, g): \n",
    "    conteo = 1 \n",
    "    for i in g: \n",
    "        if conteo == 1: \n",
    "            conteo= conteo*priori[i]\n",
    "            j = i \n",
    "        else: \n",
    "            conteo = conteo*T[j][i]\n",
    "            j = i\n",
    "    return conteo \n",
    "\n",
    "prob= gen(pi,T,g)\n",
    "print(\"La probabilidad de obtener el gen g es de: \", prob)\n",
    "\n",
    "#2. \n",
    "E= np.array([[0.8, 0, 0, 0.2],\n",
    "              [0.05, 0.9, 0.1, 0.1],\n",
    "              [0.05, 0.1, 0.9, 0],\n",
    "              [0.1, 0, 0, 0.7]])\n",
    "\n",
    "g_T= np.array([0,1,2,0,2,3,3,3])\n",
    "\n",
    "States = np.array([0,1])\n",
    "\n",
    "def GetStates(States,N):\n",
    "    \n",
    "    CStates = list( combinations_with_replacement(States,N) )\n",
    "    \n",
    "    Permu = []\n",
    "    \n",
    "    for it in CStates:\n",
    "        p = list(permutations(it,N))\n",
    "    \n",
    "        \n",
    "        for i in p:\n",
    "            if i not in Permu:\n",
    "                Permu.append(i)\n",
    "                \n",
    "    return np.array(Permu)\n",
    "\n",
    "def GetProb(T,E,obs,state,priori):\n",
    "    \n",
    "    n = len(obs)\n",
    "    probabilidad = 1\n",
    "    \n",
    "    probabilidad *= priori[state[0]]\n",
    "\n",
    "    for i in range(n-1):\n",
    "        probabilidad *= T[ state[i+1], state[i]  ]\n",
    "        \n",
    "    for i in range(n):\n",
    "        probabilidad *= E[ obs[i], state[i] ]\n",
    "        \n",
    "    return probabilidad\n",
    "\n",
    "HiddenStates = GetStates(States,3)\n",
    "obs = np.array([1,2,0])\n",
    "\n"
   ]
  }
 ],
 "metadata": {
  "kernelspec": {
   "display_name": "Python 3",
   "language": "python",
   "name": "python3"
  },
  "language_info": {
   "codemirror_mode": {
    "name": "ipython",
    "version": 3
   },
   "file_extension": ".py",
   "mimetype": "text/x-python",
   "name": "python",
   "nbconvert_exporter": "python",
   "pygments_lexer": "ipython3",
   "version": "3.11.4"
  }
 },
 "nbformat": 4,
 "nbformat_minor": 2
}
