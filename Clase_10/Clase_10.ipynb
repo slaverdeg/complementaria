{
 "cells": [
  {
   "cell_type": "markdown",
   "metadata": {},
   "source": [
    "## Valores y vectores propios"
   ]
  },
  {
   "cell_type": "markdown",
   "metadata": {},
   "source": [
    "A continuación, nos enfrentamos al problema de valores y vectores propios dónde para una matriz cuadrada $A$, buscamos sus $\\lambda$ y $\\mathbf{v}$ tal que \n",
    "\n",
    "\\begin{align*}\n",
    "A\\mathbf{v} = \\lambda \\mathbf{v}\n",
    "\\end{align*}\n",
    "\n",
    "Particularmente, el método de la potencia nos permite calcular el valor propio dominante, aquel con mayor valor absoluto. Para esto, partamos de un vector cualquiera $\\mathbf{z}^{(0)}$ para definir una $k$-ésima iteración.\n",
    "\n",
    "\\begin{align*}\n",
    "\\mathbf{z}^{(k)} = A^k \\mathbf{z}^{(0)}\n",
    "\\end{align*}\n",
    "\n",
    "Este vector cualquiera puede ser escrito como una combinación lineal de los $i$ vectores propios\n",
    "\n",
    "\\begin{align*}\n",
    "\\mathbf{z}^{(0)} = \\sum_{i=0}^{n-1} c_i \\mathbf{v}_i\n",
    "\\end{align*}\n",
    "\n",
    "Por lo cual tenemos\n",
    "\n",
    "\\begin{align*}\n",
    "\\mathbf{z}^{(k)} = A^k \\mathbf{z}^{(0)} = \\sum_{i=0}^{n-1} c_i A^k \\mathbf{v}_i = \\sum_{i=0}^{n-1} c_i \\lambda^k \\mathbf{v}_i = c_0 \\lambda_0^k \\mathbf{v}_0 + \\lambda_0^k \\sum_{i=1}^{n-1} c_i \\left( \\frac{\\lambda_i}{\\lambda_0} \\right)^k \\mathbf{v}_i\n",
    "\\end{align*}\n",
    "\n",
    "Con lo que se puede ver que caundo $k$ aumenta, este vector tiende a $\\mathbf{z}^{(k)}  \\approx  c_0 \\lambda_0^k \\mathbf{v}_0 $. De igual manera, introducimos el *cociente de Rayleigh* dado por \n",
    "\n",
    "\\begin{align*}\n",
    "\\mu (\\mathbf{x}) = \\frac{\\mathbf{x}^TA \\mathbf{x}}{\\mathbf{x}^T \\mathbf{x}}\n",
    "\\end{align*}\n",
    "\n",
    "que se aproxima al valor propio cuando $k$ aumenta."
   ]
  },
  {
   "cell_type": "markdown",
   "metadata": {},
   "source": [
    "La idea del algoritmo también nos implica que esté vector debe ser normalizado por lo que \n",
    "\n",
    "\\begin{align*}\n",
    "\\mathbf{q}^{(k)} = \\frac{ \\mathbf{z}^{(k)}}{||\\mathbf{z}^{(k)}||} =  \\frac{A^k \\mathbf{z}^{(0)}}{||A^k \\mathbf{z}^{(0)}||}\n",
    "\\end{align*}\n",
    "\n",
    "1. Para un vector normal, ¿a cuánto es igual el cociente de Rayleigh?\n"
   ]
  },
  {
   "cell_type": "markdown",
   "metadata": {},
   "source": [
    "Entonces, este algoritmo nos pide calcular\n",
    "\n",
    "\\begin{align*}\n",
    "\\mathbf{z}^{(k)} &= A\\mathbf{q}^{(k-1)} \\\\\n",
    "\\mathbf{q}^{(k)} &=\\frac{ \\mathbf{z}^{(k)}}{||\\mathbf{z}^{(k)}||} \\\\\n",
    "\\mu(\\mathbf{q}^{(k)}) &= [\\mathbf{q}^{(k)}]^T A \\mathbf{q}^{(k)}\n",
    "\\end{align*}"
   ]
  },
  {
   "cell_type": "markdown",
   "metadata": {},
   "source": [
    "#### **Ejercicio**\n",
    "\n",
    "Implemente un algoritmo para calculcar el valor propio dominante y su vector propio unitario asociado. Realice el ejercicio 11 del libro para encontrar la energía de estado $E_2$ y su vector propio $\\ket{\\psi_2}$."
   ]
  },
  {
   "cell_type": "code",
   "execution_count": 13,
   "metadata": {},
   "outputs": [],
   "source": [
    "import numpy as np"
   ]
  },
  {
   "cell_type": "code",
   "execution_count": 14,
   "metadata": {},
   "outputs": [],
   "source": [
    "def mulM(A,B):\n",
    "    return np.matmul(A,B)"
   ]
  },
  {
   "cell_type": "code",
   "execution_count": 15,
   "metadata": {},
   "outputs": [],
   "source": [
    "def GetValorAndVector(A,v,its=11):\n",
    "    \n",
    "    for i in range(its):\n",
    "        vn = v/(np.linalg.norm(v))\n",
    "        v = mulM(A,vn)\n",
    "        lam = mulM(vn.T,v)\n",
    "\n",
    "    return lam,v/(np.linalg.norm(v))\n"
   ]
  },
  {
   "cell_type": "code",
   "execution_count": 16,
   "metadata": {},
   "outputs": [],
   "source": [
    "H = np.array([[1,2,-1],\n",
    "             [1,0,1],\n",
    "             [4,-4,5]])"
   ]
  },
  {
   "cell_type": "code",
   "execution_count": 17,
   "metadata": {},
   "outputs": [
    {
     "data": {
      "text/plain": [
       "(3.0249674764655925, array([-0.23221319,  0.23590653,  0.94362341]))"
      ]
     },
     "execution_count": 17,
     "metadata": {},
     "output_type": "execute_result"
    }
   ],
   "source": [
    "v = np.array([1,1,1])\n",
    "GetValorAndVector(H,v)"
   ]
  },
  {
   "cell_type": "code",
   "execution_count": 18,
   "metadata": {},
   "outputs": [
    {
     "data": {
      "text/plain": [
       "(1.0011774216114881, array([-0.40820239,  0.40846849,  0.81640939]))"
      ]
     },
     "execution_count": 18,
     "metadata": {},
     "output_type": "execute_result"
    }
   ],
   "source": [
    "H_inv = np.linalg.inv(H)\n",
    "GetValorAndVector(H_inv,v)"
   ]
  }
 ],
 "metadata": {
  "kernelspec": {
   "display_name": "Python 3",
   "language": "python",
   "name": "python3"
  },
  "language_info": {
   "codemirror_mode": {
    "name": "ipython",
    "version": 3
   },
   "file_extension": ".py",
   "mimetype": "text/x-python",
   "name": "python",
   "nbconvert_exporter": "python",
   "pygments_lexer": "ipython3",
   "version": "3.9.7"
  }
 },
 "nbformat": 4,
 "nbformat_minor": 2
}
