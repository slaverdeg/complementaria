{
 "cells": [
  {
   "cell_type": "code",
   "execution_count": 46,
   "metadata": {},
   "outputs": [],
   "source": [
    "import funciones as fun\n",
    "import numpy as np\n",
    "import matplotlib.pyplot as plt"
   ]
  },
  {
   "cell_type": "code",
   "execution_count": 47,
   "metadata": {},
   "outputs": [
    {
     "data": {
      "text/plain": [
       "array([0.        , 0.00641141, 0.01282283, 0.01923424, 0.02564565,\n",
       "       0.03205707, 0.03846848, 0.0448799 , 0.05129131, 0.05770272,\n",
       "       0.06411414, 0.07052555, 0.07693696, 0.08334838, 0.08975979,\n",
       "       0.0961712 , 0.10258262, 0.10899403, 0.11540544, 0.12181686,\n",
       "       0.12822827, 0.13463969, 0.1410511 , 0.14746251, 0.15387393,\n",
       "       0.16028534, 0.16669675, 0.17310817, 0.17951958, 0.18593099,\n",
       "       0.19234241, 0.19875382, 0.20516523, 0.21157665, 0.21798806,\n",
       "       0.22439948, 0.23081089, 0.2372223 , 0.24363372, 0.25004513,\n",
       "       0.25645654, 0.26286796, 0.26927937, 0.27569078, 0.2821022 ,\n",
       "       0.28851361, 0.29492502, 0.30133644, 0.30774785, 0.31415927])"
      ]
     },
     "execution_count": 47,
     "metadata": {},
     "output_type": "execute_result"
    }
   ],
   "source": [
    "A = 2\n",
    "k = 800\n",
    "m = 2\n",
    "T = 2*np.pi*((m/k)**(1/2))\n",
    "t = np.linspace(0,float(T))\n",
    "t"
   ]
  },
  {
   "cell_type": "code",
   "execution_count": 48,
   "metadata": {},
   "outputs": [
    {
     "data": {
      "text/plain": [
       "array([ 0.00000000e+00,  2.55754323e-01,  5.07309168e-01,  7.50534010e-01,\n",
       "        9.81435104e-01,  1.19622106e+00,  1.39136510e+00,  1.56366296e+00,\n",
       "        1.71028553e+00,  1.82882525e+00,  1.91733571e+00,  1.97436357e+00,\n",
       "        1.99897243e+00,  1.99075823e+00,  1.94985582e+00,  1.87693684e+00,\n",
       "        1.77319861e+00,  1.64034451e+00,  1.48055599e+00,  1.29645679e+00,\n",
       "        1.09106980e+00,  8.67767478e-01,  6.30216436e-01,  3.82317257e-01,\n",
       "        1.28140440e-01, -1.28140440e-01, -3.82317257e-01, -6.30216436e-01,\n",
       "       -8.67767478e-01, -1.09106980e+00, -1.29645679e+00, -1.48055599e+00,\n",
       "       -1.64034451e+00, -1.77319861e+00, -1.87693684e+00, -1.94985582e+00,\n",
       "       -1.99075823e+00, -1.99897243e+00, -1.97436357e+00, -1.91733571e+00,\n",
       "       -1.82882525e+00, -1.71028553e+00, -1.56366296e+00, -1.39136510e+00,\n",
       "       -1.19622106e+00, -9.81435104e-01, -7.50534010e-01, -5.07309168e-01,\n",
       "       -2.55754323e-01, -4.89858720e-16])"
      ]
     },
     "execution_count": 48,
     "metadata": {},
     "output_type": "execute_result"
    }
   ],
   "source": [
    "x = fun.posicion(A,k,m,t)\n",
    "x"
   ]
  },
  {
   "cell_type": "code",
   "execution_count": 49,
   "metadata": {},
   "outputs": [],
   "source": [
    "h = x[1] - x[0]\n",
    "def DerivadaDerecha(f,x,h):\n",
    "    \n",
    "    d = 0.\n",
    "    \n",
    "    if h != 0:\n",
    "        d = (f(A,k,m,x+h) - f(A,k,m,x))/h\n",
    "        \n",
    "    return d\n",
    "\n",
    "def DerivadaIzquierda(f,x,h):\n",
    "    \n",
    "    d = 0.\n",
    "    \n",
    "    if h != 0:\n",
    "        d = (f(A,k,m,x) - f(A,k,m,x-h))/h\n",
    "        \n",
    "    return d\n",
    "\n",
    "def DerivadaCentral(f,x,h):\n",
    "    \n",
    "    d = 0.\n",
    "    \n",
    "    if h != 0:\n",
    "        d = (f(A,k,m,x+h) - f(A,k,m,x-h))/(2*h)\n",
    "        \n",
    "    return d\n",
    "\n",
    "#def arreglo(f,x):\n",
    "    "
   ]
  },
  {
   "cell_type": "code",
   "execution_count": 50,
   "metadata": {},
   "outputs": [],
   "source": [
    "RDerivative = DerivadaDerecha(fun.posicion,t,h)\n",
    "LDerivative = DerivadaIzquierda(fun.posicion,t,h)\n",
    "CDerivative = DerivadaCentral(fun.posicion,t,h)"
   ]
  },
  {
   "cell_type": "code",
   "execution_count": 51,
   "metadata": {},
   "outputs": [
    {
     "data": {
      "text/plain": [
       "<matplotlib.legend.Legend at 0x208e1ecaa60>"
      ]
     },
     "execution_count": 51,
     "metadata": {},
     "output_type": "execute_result"
    },
    {
     "data": {
      "image/png": "[encoded data removed]",
      "text/plain": [
       "<Figure size 432x288 with 1 Axes>"
      ]
     },
     "metadata": {
      "needs_background": "light"
     },
     "output_type": "display_data"
    }
   ],
   "source": [
    "plt.scatter(x,RDerivative,label='Derivada Derecha')\n",
    "plt.scatter(x,LDerivative,label='Derivada Izquierda')\n",
    "plt.scatter(x,CDerivative,label='Derivada Central')\n",
    "plt.legend()"
   ]
  }
 ],
 "metadata": {
  "kernelspec": {
   "display_name": "base",
   "language": "python",
   "name": "python3"
  },
  "language_info": {
   "codemirror_mode": {
    "name": "ipython",
    "version": 3
   },
   "file_extension": ".py",
   "mimetype": "text/x-python",
   "name": "python",
   "nbconvert_exporter": "python",
   "pygments_lexer": "ipython3",
   "version": "3.9.7"
  },
  "orig_nbformat": 4
 },
 "nbformat": 4,
 "nbformat_minor": 2
}
