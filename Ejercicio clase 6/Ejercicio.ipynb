{
 "cells": [
  {
   "cell_type": "code",
   "execution_count": 190,
   "metadata": {},
   "outputs": [
    {
     "data": {
      "text/html": [
       "<style>.container { width:100% !important; }</style>"
      ],
      "text/plain": [
       "<IPython.core.display.HTML object>"
      ]
     },
     "metadata": {},
     "output_type": "display_data"
    }
   ],
   "source": [
    "from IPython.display import display, HTML\n",
    "display(HTML(\"<style>.container { width:100% !important; }</style>\"))\n",
    "import numpy as np\n",
    "import matplotlib.pyplot as plt\n",
    "from scipy import integrate"
   ]
  },
  {
   "cell_type": "code",
   "execution_count": 191,
   "metadata": {},
   "outputs": [],
   "source": [
    "class Integrator:\n",
    "    \n",
    "    def __init__(self,x,f):\n",
    "        \n",
    "        self.x = x\n",
    "        self.h = self.x[1] - self.x[0]\n",
    "        self.y = f(self.x)\n",
    "        \n",
    "        self.Integral = 0.\n",
    "\n",
    "# Integración del método del trapecio y Simpson 1/3 en general\n",
    "\n",
    "class trapecio(Integrator):\n",
    "    def __init__(self,x,f):\n",
    "        Integrator.__init__(self,x,f)\n",
    "\n",
    "    def GetIntegral(self):\n",
    "        \n",
    "        self.Integral += 0.5*(self.y[0]+self.y[-1])\n",
    "        \n",
    "        #self.Integral += np.sum( self.y[1:-1] )\n",
    "        \n",
    "        for i in range(1,self.y.shape[0]-1):\n",
    "            self.Integral += self.y[i]\n",
    "        \n",
    "        self.Integral *= self.h\n",
    "        \n",
    "        return self.Integral\n",
    "\n",
    "class Simpson(Integrator):\n",
    "    \n",
    "    def __init__(self,x,f):\n",
    "        Integrator.__init__(self,x,f)\n",
    "        \n",
    "    def GetIntegral(self):\n",
    "        \n",
    "        self.Integral = 0.\n",
    "        \n",
    "        self.Integral += self.y[0] + self.y[-1]\n",
    "        \n",
    "        for i in range( len(self.y[1:-2]) ):\n",
    "            \n",
    "            if i%2 == 0:\n",
    "                self.Integral += 4*self.y[i+1]\n",
    "            else:\n",
    "                self.Integral += 2*self.y[i+1]\n",
    "          \n",
    "        return self.Integral*self.h/3"
   ]
  },
  {
   "cell_type": "code",
   "execution_count": 192,
   "metadata": {},
   "outputs": [],
   "source": [
    "def Get_Permiter_Ellipse_Simpson(a,b):\n",
    "\n",
    "     N = 100000\n",
    "     x = np.linspace(-a,a,N+1)\n",
    "     x = list(x)\n",
    "     x.append(b)\n",
    "     x = np.array(x)\n",
    "     \n",
    "     def function(x):\n",
    "         a = abs(x[0]) + 0.00001\n",
    "         b = x[-1]\n",
    "         f = (2/a)*np.sqrt(((a**4) + ((b**2 - a**2)*(x**2)))/((a**2)-(x**2)))\n",
    "         return f\n",
    "     \n",
    "     class Simpson_Perimeter_Ellipse(Integrator):\n",
    "\n",
    "        def __init__(self,x,f):\n",
    "            Integrator.__init__(self,x,f)\n",
    "        \n",
    "        def GetIntegral(self):\n",
    "            self.Integral = 0.\n",
    "            self.Integral += self.y[0] + self.y[-2]\n",
    "        \n",
    "            for i in range( len(self.y[1:-2]) ):\n",
    "                 \n",
    "                 if i%2 == 0:\n",
    "                     self.Integral += 4*self.y[i+1]\n",
    "                 else:\n",
    "                     self.Integral += 2*self.y[i+1]\n",
    "          \n",
    "            return self.Integral*self.h/3\n",
    "        \n",
    "     perimeter = Simpson_Perimeter_Ellipse(x,function).GetIntegral()\n",
    "     return perimeter\n",
    "\n",
    "def Get_Permiter_Ellipse_Trapecio(a,b):\n",
    "\n",
    "     N = 100000\n",
    "     x = np.linspace(-a,a,N+1)\n",
    "     x = list(x)\n",
    "     x.append(b)\n",
    "     x = np.array(x)\n",
    "     \n",
    "     def function(x):\n",
    "         a = abs(x[0]) + 0.00001\n",
    "         b = x[-1]\n",
    "         f = (2/a)*np.sqrt(((a**4) + ((b**2 - a**2)*(x**2)))/((a**2)-(x**2)))\n",
    "         return f\n",
    "     \n",
    "     class Trapecio_Perimeter_Ellipse(Integrator):\n",
    "         \n",
    "         def __init__(self,x,f):\n",
    "             Integrator.__init__(self,x,f)\n",
    "\n",
    "         def GetIntegral(self):\n",
    "        \n",
    "             self.Integral += 0.5*(self.y[0]+self.y[-2])\n",
    "        \n",
    "             for i in range(1,self.y.shape[0]-2):\n",
    "                 self.Integral += self.y[i]\n",
    "\n",
    "             self.Integral *= self.h\n",
    "        \n",
    "             return self.Integral\n",
    "         \n",
    "     perimeter = Trapecio_Perimeter_Ellipse(x,function).GetIntegral()\n",
    "     return perimeter"
   ]
  },
  {
   "cell_type": "code",
   "execution_count": 193,
   "metadata": {},
   "outputs": [
    {
     "data": {
      "text/plain": [
       "6.265621175532579"
      ]
     },
     "execution_count": 193,
     "metadata": {},
     "output_type": "execute_result"
    }
   ],
   "source": [
    "\"a := semieje mayor\"\n",
    "a = 1\n",
    "\"b := semieje menor\"\n",
    "b = 1\n",
    "\n",
    "Get_Permiter_Ellipse_Simpson(a,b)\n",
    "Get_Permiter_Ellipse_Trapecio(a,b)"
   ]
  }
 ],
 "metadata": {
  "kernelspec": {
   "display_name": "base",
   "language": "python",
   "name": "python3"
  },
  "language_info": {
   "codemirror_mode": {
    "name": "ipython",
    "version": 3
   },
   "file_extension": ".py",
   "mimetype": "text/x-python",
   "name": "python",
   "nbconvert_exporter": "python",
   "pygments_lexer": "ipython3",
   "version": "3.9.7"
  },
  "orig_nbformat": 4
 },
 "nbformat": 4,
 "nbformat_minor": 2
}
