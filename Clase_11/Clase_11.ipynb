{
 "cells": [
  {
   "cell_type": "code",
   "execution_count": 101,
   "metadata": {},
   "outputs": [
    {
     "name": "stdout",
     "output_type": "stream",
     "text": [
      "IPython console for SymPy 1.9 (Python 3.9.7-64-bit) (ground types: python)\n",
      "\n",
      "These commands were executed:\n",
      ">>> from __future__ import division\n",
      ">>> from sympy import *\n",
      ">>> x, y, z, t = symbols('x y z t')\n",
      ">>> k, m, n = symbols('k m n', integer=True)\n",
      ">>> f, g, h = symbols('f g h', cls=Function)\n",
      ">>> init_printing()\n",
      "\n",
      "Documentation can be found at https://docs.sympy.org/1.9/\n",
      "\n"
     ]
    }
   ],
   "source": [
    "import numpy as np\n",
    "from sympy import init_session\n",
    "init_session(use_latex=True)"
   ]
  },
  {
   "cell_type": "markdown",
   "metadata": {},
   "source": [
    "## Repaso Matrices - Taller 3\n",
    "\n",
    "Este taller debe ser entregado a más tardar el viernes 3 de noviembre a medianoche (11:59pm)."
   ]
  },
  {
   "cell_type": "markdown",
   "metadata": {},
   "source": [
    "### 1. Multiplicación de matrices\n",
    "\n",
    "**[20 pts]** Construya el algoritmo de multiplicación de matrices y encuentre el resultado de las siguientes operaciones.\n",
    "\n",
    "a.\n",
    "\n",
    " <img src ='./img/matrix1.png' width=200px>\n",
    "\n",
    " b.\n",
    " \n",
    "  <img src ='./img/matrix2.png' width=200px>\n",
    "\n",
    "  c. \n",
    "\n",
    "  <img src ='./img/matrix3.png' width=200px>\n",
    "\n",
    "  **[10 pts]** Utilizando dos matrices cuadradas, demuestre que la multiplicación no es conmutativa."
   ]
  },
  {
   "cell_type": "code",
   "execution_count": 102,
   "metadata": {},
   "outputs": [],
   "source": [
    "def mulM(A,B):\n",
    "\n",
    "    if len(np.shape(A)) == 1:\n",
    "        A = np.reshape(A,(1,len(A)))\n",
    "\n",
    "    if len(np.shape(B)) == 1:\n",
    "        B = np.reshape(B,(len(B),1))\n",
    "\n",
    "    AB = np.zeros(shape=(np.shape(A)[0],np.shape(B)[1]))\n",
    "\n",
    "    if np.shape(A)[1] == np.shape(B)[0]:\n",
    "        for i in range(np.shape(B)[1]):\n",
    "            for j in range(np.shape(A)[0]):\n",
    "                sum = 0\n",
    "                for k in range(np.shape(A)[1]):\n",
    "                    sum += A[j][k]*B[k][i]\n",
    "                    \n",
    "                AB[j][i] = sum\n",
    "    else:\n",
    "        AB = None\n",
    "        print('Multiplicación no está definida')\n",
    "    \n",
    "    return AB"
   ]
  },
  {
   "cell_type": "markdown",
   "metadata": {},
   "source": [
    "a)"
   ]
  },
  {
   "cell_type": "code",
   "execution_count": 103,
   "metadata": {},
   "outputs": [
    {
     "data": {
      "text/plain": [
       "array([[ 39.],\n",
       "       [ 23.],\n",
       "       [ 12.],\n",
       "       [-42.],\n",
       "       [ 32.]])"
      ]
     },
     "execution_count": 103,
     "metadata": {},
     "output_type": "execute_result"
    }
   ],
   "source": [
    "A = np.array([[5.,-4.,-2.],\n",
    "              [5.,-5.,4.],\n",
    "              [2.,5.,-4.],\n",
    "              [-5.,4.,3.],\n",
    "              [3.,-4.,-3.]])\n",
    "\n",
    "B = np.array([5.,-2.,-3.])\n",
    "\n",
    "mulM(A,B)\n",
    "#np.matmul(A,B)"
   ]
  },
  {
   "cell_type": "markdown",
   "metadata": {},
   "source": [
    "b)"
   ]
  },
  {
   "cell_type": "code",
   "execution_count": 104,
   "metadata": {},
   "outputs": [
    {
     "name": "stdout",
     "output_type": "stream",
     "text": [
      "Multiplicación no está definida\n"
     ]
    }
   ],
   "source": [
    "A = np.array([[0.,-1.,-1.,3.],\n",
    "              [5.,-5.,-2.,2.],\n",
    "              [1.,0.,4.,5.]])\n",
    "\n",
    "B = np.array([[0.,-3.],\n",
    "              [-2.,-1.],\n",
    "              [3.,-3.]])\n",
    "\n",
    "mulM(A,B)\n",
    "#np.matmul(A,B)"
   ]
  },
  {
   "cell_type": "markdown",
   "metadata": {},
   "source": [
    "c)"
   ]
  },
  {
   "cell_type": "code",
   "execution_count": 105,
   "metadata": {},
   "outputs": [
    {
     "data": {
      "text/plain": [
       "array([[ 12.,  27., -13.,  25., -37.],\n",
       "       [  2.,  51., -39., -46., -23.],\n",
       "       [ 27.,  -1., -19.,  16., -20.],\n",
       "       [ 13.,  25., -91.,  -1., -56.]])"
      ]
     },
     "execution_count": 105,
     "metadata": {},
     "output_type": "execute_result"
    }
   ],
   "source": [
    "A = np.array([[2.,-5.,5.,1.],\n",
    "              [5.,2.,-7.,-6.],\n",
    "              [-6.,-1.,7.,-4.],\n",
    "              [5.,4.,1.,-5.]])\n",
    "\n",
    "B = np.array([[0.,4.,-7.,1.,-6.],\n",
    "              [-1.,-6.,-5.,1.,1.],\n",
    "              [2.,-1.,-6.,5.,-5.],\n",
    "              [-3.,-6.,6.,3.,5.]])\n",
    "\n",
    "mulM(A,B)\n",
    "#np.matmul(A,B)"
   ]
  },
  {
   "cell_type": "markdown",
   "metadata": {},
   "source": [
    "No conmutividad.\n",
    "\n",
    "A*B =! B*A"
   ]
  },
  {
   "cell_type": "code",
   "execution_count": 106,
   "metadata": {},
   "outputs": [
    {
     "data": {
      "text/plain": [
       "array([[False, False],\n",
       "       [False, False]])"
      ]
     },
     "execution_count": 106,
     "metadata": {},
     "output_type": "execute_result"
    }
   ],
   "source": [
    "A = np.array([[1.,2.],\n",
    "              [3.,4.]])\n",
    "\n",
    "B = np.array([[5.,6.],\n",
    "              [7.,8.]])\n",
    "\n",
    "mulM(A,B) == mulM(B,A)"
   ]
  },
  {
   "cell_type": "markdown",
   "metadata": {},
   "source": [
    "### 2. Reducción gaussiana\n",
    "**[40 pts]** Utilizando el algoritmo de reducción Gaussiana, resuelva los siguientes sistemas de ecuaciones:\n",
    "\n",
    "a.\n",
    "\n",
    " <img src ='./img/gaussian1.png' width=300px align=center>\n",
    "\n",
    " b.\n",
    "\n",
    " <img src ='./img/gaussian2.png' width=300px>"
   ]
  },
  {
   "cell_type": "code",
   "execution_count": 107,
   "metadata": {},
   "outputs": [],
   "source": [
    "def gaussian_elimination(A: np.array,b: np.array):\n",
    "    '''\n",
    "    Args:\n",
    "        A (np.array): Matriz de coeficientes cuadrada (n x n).\n",
    "        b (np.array): Vector de constantes de longitud n\n",
    "\n",
    "    Returns:\n",
    "        M (np.array): Matriz aumentada [A|b] reducida utilizando el algoritmo de eliminación Gaussiana\n",
    "    '''\n",
    "    n = np.shape(A)[0]\n",
    "    M = np.zeros(shape=(n,n+1))\n",
    "    M[:,0:n] = A\n",
    "    M[:,n] = b\n",
    "    \n",
    "    i_ = 1\n",
    "    for j in range(0,n-1):\n",
    "        \n",
    "        for i in range(i_,n):\n",
    "            #print(i,j)\n",
    "            M[i,:] -= (M[i,j]/M[j,j])*M[j,:]\n",
    "        i_ +=1\n",
    "\n",
    "    return M\n",
    "\n",
    "def back_substitution(A, b):\n",
    "    '''\n",
    "    Args:\n",
    "        A (np.array): Matriz de coeficientes triangular superior\n",
    "        b (np.arra): vector de constantes\n",
    "        \n",
    "    '''\n",
    "\n",
    "    n = np.shape(A)[0]\n",
    "\n",
    "    x = np.zeros(n)\n",
    "\n",
    "    for i in range(n-1,-1,-1):\n",
    "        sum = b[i]\n",
    "        for j in range(n-1,i,-1):\n",
    "            sum -= A[i,j]*x[j]\n",
    "        x[i] = sum/A[i,i]\n",
    "\n",
    "    return x"
   ]
  },
  {
   "cell_type": "markdown",
   "metadata": {},
   "source": [
    "a)"
   ]
  },
  {
   "cell_type": "code",
   "execution_count": 108,
   "metadata": {},
   "outputs": [
    {
     "name": "stdout",
     "output_type": "stream",
     "text": [
      "[0.71428571 0.85714286 1.        ]\n"
     ]
    }
   ],
   "source": [
    "A = np.array([[3.,1.,-1.],\n",
    "              [1.,-2.,1.],\n",
    "              [4.,-1.,1.]])\n",
    "n = np.shape(A)[0]\n",
    "b = np.array([2.,0.,3.])\n",
    "\n",
    "A_ = gaussian_elimination(A,b)\n",
    "Ar = A_[:,:n]\n",
    "br = A_[:,n]\n",
    "\n",
    "x = back_substitution(Ar,br)\n",
    "print(x)\n",
    "#print(np.linalg.solve(A,b))"
   ]
  },
  {
   "cell_type": "markdown",
   "metadata": {},
   "source": [
    "b)"
   ]
  },
  {
   "cell_type": "code",
   "execution_count": 109,
   "metadata": {},
   "outputs": [
    {
     "name": "stdout",
     "output_type": "stream",
     "text": [
      "[ 0.71052632 -0.39473684 -0.31578947]\n"
     ]
    }
   ],
   "source": [
    "A = np.array([[1.,1.,1.],\n",
    "              [0.,-8.,10.],\n",
    "              [4.,-8.,0.]])\n",
    "n = np.shape(A)[0]\n",
    "b = np.array([0.,0.,6.])\n",
    "\n",
    "A_ = gaussian_elimination(A,b)\n",
    "\n",
    "A_ = gaussian_elimination(A,b)\n",
    "Ar = A_[:,:n]\n",
    "br = A_[:,n]\n",
    "\n",
    "x = back_substitution(Ar,br)\n",
    "print(x)\n",
    "#print(np.linalg.solve(A,b))"
   ]
  },
  {
   "cell_type": "markdown",
   "metadata": {},
   "source": [
    "### 3. Valores y vectores propios\n",
    "\n",
    "**[30 pts]** Un sistema de tres osciladores acoplados, tiene las siguientes ecuaciones de movimiento:\n",
    "\n",
    "<img src='./img/eqmotion.png' width=200>\n",
    "\n",
    "Al reemplazar $x_1=c_1e^{i\\omega t},x_2=c_2e^{i\\omega t},x_3=c_3e^{i\\omega t}$ se obtienen las siguientes ecuaciones algebraicas\n",
    "\n",
    "<img src='./img/algeq.png'  width=200>\n",
    "\n",
    "Para encontrar las frecuencias, se puede pensar lo anterior como un problema de valor propio regido por la ecuación\n",
    "\n",
    "$M\\vec{v} = -\\omega^2 \\vec{v}$\n",
    "\n",
    "donde $\\vec{v}$ es el vector de amplitudes $c_1,c_2,c_3$ y $-\\omega^2$ los valores propios. Utilizando el método de la potencia, encuentre la frecuencia máxima y mínima de oscilación del sistema y sus amplitudes asociadas para cada caso (modo normal). En su solución pruebe $k_{11}=k_{22}=k_{33}=-2\\kappa, k_{12}=k_{21}=k_{23}=k_{32}=\\kappa, k_{13}=k_{31}=0$.\n",
    "\n",
    "\n"
   ]
  },
  {
   "cell_type": "code",
   "execution_count": null,
   "metadata": {},
   "outputs": [],
   "source": [
    "\"\"\"def GetValorAndVectorMax(A,v,its=11):\n",
    "    v = Matrix(v)\n",
    "    for i in range(its):\n",
    "        vn = v.normalized()\n",
    "        v = A*vn\n",
    "        lam = vn.T*v\n",
    "    \n",
    "    v = v.normalized()\n",
    "\n",
    "    return lam,v\n",
    "\n",
    "def GetValorAndVectorMinor(A,v,its=11):\n",
    "    A = A.inv()\n",
    "    v = Matrix(v)\n",
    "    for i in range(its):\n",
    "        vn = v.normalized()\n",
    "        v = A*vn\n",
    "        lam = vn.T*v\n",
    "\n",
    "    v = v.normalized()\n",
    "\n",
    "    return 1/lam, v\"\"\""
   ]
  },
  {
   "cell_type": "code",
   "execution_count": 110,
   "metadata": {},
   "outputs": [],
   "source": [
    "def GetValorAndVectorMax(A,v,its=11):\n",
    "    \n",
    "    for i in range(its):\n",
    "        vn = v/(np.linalg.norm(v))\n",
    "        v = mulM(A,vn)\n",
    "        lam = mulM(vn.T,v)\n",
    "\n",
    "    return lam,v/(np.linalg.norm(v))\n",
    "\n",
    "def GetValorAndVectorMinor(A,v,its=11):\n",
    "    A = np.linalg.inv(A)\n",
    "    for i in range(its):\n",
    "        vn = v/(np.linalg.norm(v))\n",
    "        v = mulM(A,vn)\n",
    "        lam = mulM(vn.T,v)\n",
    "\n",
    "    return 1/lam,v/(np.linalg.norm(v))"
   ]
  },
  {
   "cell_type": "code",
   "execution_count": 111,
   "metadata": {},
   "outputs": [],
   "source": [
    "k , m1 , m2 , m3 = symbols('k m1 m2 m3', real=True)\n",
    "\n",
    "A = Matrix([[-2.*k/m1,k/m1,0.],\n",
    "            [k/m2,-2.*k/m2,k/m2],\n",
    "            [0.,k/m3,-2.*k/m3]])\n",
    "\n",
    "A_np = (lambdify((k,m1,m2,m3),A,'numpy'))\n",
    "A_numerica = (A_np(1,1,1,1))\n",
    "v = np.array([1,1,1])"
   ]
  },
  {
   "cell_type": "code",
   "execution_count": 112,
   "metadata": {},
   "outputs": [
    {
     "data": {
      "text/plain": [
       "(array([[-3.41421356]]),\n",
       " array([[-0.50000001],\n",
       "        [ 0.70710677],\n",
       "        [-0.50000001]]))"
      ]
     },
     "execution_count": 112,
     "metadata": {},
     "output_type": "execute_result"
    }
   ],
   "source": [
    "GetValorAndVectorMax(A_numerica,v)"
   ]
  },
  {
   "cell_type": "code",
   "execution_count": 113,
   "metadata": {},
   "outputs": [
    {
     "data": {
      "text/plain": [
       "(array([[-0.58578644]]),\n",
       " array([[-0.5       ],\n",
       "        [-0.70710678],\n",
       "        [-0.5       ]]))"
      ]
     },
     "execution_count": 113,
     "metadata": {},
     "output_type": "execute_result"
    }
   ],
   "source": [
    "GetValorAndVectorMinor(A_numerica,v)"
   ]
  }
 ],
 "metadata": {
  "kernelspec": {
   "display_name": "base",
   "language": "python",
   "name": "python3"
  },
  "language_info": {
   "codemirror_mode": {
    "name": "ipython",
    "version": 3
   },
   "file_extension": ".py",
   "mimetype": "text/x-python",
   "name": "python",
   "nbconvert_exporter": "python",
   "pygments_lexer": "ipython3",
   "version": "3.9.7"
  }
 },
 "nbformat": 4,
 "nbformat_minor": 2
}
